{
 "cells": [
  {
   "cell_type": "markdown",
   "metadata": {},
   "source": [
    "# csv 转换 excel"
   ]
  },
  {
   "cell_type": "code",
   "execution_count": 5,
   "metadata": {},
   "outputs": [],
   "source": [
    "import pandas as ps"
   ]
  },
  {
   "cell_type": "code",
   "execution_count": 6,
   "metadata": {},
   "outputs": [],
   "source": [
    "df1 = ps.read_csv('C:\\\\Users\\\\001\\\\Desktop\\\\PMS字典对比\\\\生产sys_dict_202004291344.csv')\n",
    "df2 = ps.read_csv('C:\\\\Users\\\\001\\\\Desktop\\\\PMS字典对比\\\\预生产sys_dict_202004291344.csv')\n"
   ]
  },
  {
   "cell_type": "code",
   "execution_count": 10,
   "metadata": {},
   "outputs": [],
   "source": [
    "fileName ='字典预生产'"
   ]
  },
  {
   "cell_type": "code",
   "execution_count": 3,
   "metadata": {},
   "outputs": [
    {
     "ename": "FileNotFoundError",
     "evalue": "[Errno 2] File b'C:\\\\Users\\\\001\\\\Desktop\\\\_SELECT_A_VIN_A_ZORD_NO_AS_PLAN_NO_A_CAR_STATE_A_VEHICLE_ID_A_CU_202004271034.csv' does not exist: b'C:\\\\Users\\\\001\\\\Desktop\\\\_SELECT_A_VIN_A_ZORD_NO_AS_PLAN_NO_A_CAR_STATE_A_VEHICLE_ID_A_CU_202004271034.csv'",
     "output_type": "error",
     "traceback": [
      "\u001b[1;31m---------------------------------------------------------------------------\u001b[0m",
      "\u001b[1;31mFileNotFoundError\u001b[0m                         Traceback (most recent call last)",
      "\u001b[1;32m<ipython-input-3-bc41ea8fdbbe>\u001b[0m in \u001b[0;36m<module>\u001b[1;34m\u001b[0m\n\u001b[1;32m----> 1\u001b[1;33m \u001b[0mtable\u001b[0m \u001b[1;33m=\u001b[0m  \u001b[0mps\u001b[0m\u001b[1;33m.\u001b[0m\u001b[0mread_csv\u001b[0m\u001b[1;33m(\u001b[0m\u001b[1;34m'C:\\\\Users\\\\001\\\\Desktop\\\\'\u001b[0m\u001b[1;33m+\u001b[0m\u001b[0mfileName\u001b[0m\u001b[1;33m+\u001b[0m\u001b[1;34m'.csv'\u001b[0m\u001b[1;33m)\u001b[0m\u001b[1;33m\u001b[0m\u001b[1;33m\u001b[0m\u001b[0m\n\u001b[0m",
      "\u001b[1;32mD:\\Software\\Anaconda3\\lib\\site-packages\\pandas\\io\\parsers.py\u001b[0m in \u001b[0;36mparser_f\u001b[1;34m(filepath_or_buffer, sep, delimiter, header, names, index_col, usecols, squeeze, prefix, mangle_dupe_cols, dtype, engine, converters, true_values, false_values, skipinitialspace, skiprows, skipfooter, nrows, na_values, keep_default_na, na_filter, verbose, skip_blank_lines, parse_dates, infer_datetime_format, keep_date_col, date_parser, dayfirst, iterator, chunksize, compression, thousands, decimal, lineterminator, quotechar, quoting, doublequote, escapechar, comment, encoding, dialect, tupleize_cols, error_bad_lines, warn_bad_lines, delim_whitespace, low_memory, memory_map, float_precision)\u001b[0m\n\u001b[0;32m    700\u001b[0m                     skip_blank_lines=skip_blank_lines)\n\u001b[0;32m    701\u001b[0m \u001b[1;33m\u001b[0m\u001b[0m\n\u001b[1;32m--> 702\u001b[1;33m         \u001b[1;32mreturn\u001b[0m \u001b[0m_read\u001b[0m\u001b[1;33m(\u001b[0m\u001b[0mfilepath_or_buffer\u001b[0m\u001b[1;33m,\u001b[0m \u001b[0mkwds\u001b[0m\u001b[1;33m)\u001b[0m\u001b[1;33m\u001b[0m\u001b[1;33m\u001b[0m\u001b[0m\n\u001b[0m\u001b[0;32m    703\u001b[0m \u001b[1;33m\u001b[0m\u001b[0m\n\u001b[0;32m    704\u001b[0m     \u001b[0mparser_f\u001b[0m\u001b[1;33m.\u001b[0m\u001b[0m__name__\u001b[0m \u001b[1;33m=\u001b[0m \u001b[0mname\u001b[0m\u001b[1;33m\u001b[0m\u001b[1;33m\u001b[0m\u001b[0m\n",
      "\u001b[1;32mD:\\Software\\Anaconda3\\lib\\site-packages\\pandas\\io\\parsers.py\u001b[0m in \u001b[0;36m_read\u001b[1;34m(filepath_or_buffer, kwds)\u001b[0m\n\u001b[0;32m    427\u001b[0m \u001b[1;33m\u001b[0m\u001b[0m\n\u001b[0;32m    428\u001b[0m     \u001b[1;31m# Create the parser.\u001b[0m\u001b[1;33m\u001b[0m\u001b[1;33m\u001b[0m\u001b[1;33m\u001b[0m\u001b[0m\n\u001b[1;32m--> 429\u001b[1;33m     \u001b[0mparser\u001b[0m \u001b[1;33m=\u001b[0m \u001b[0mTextFileReader\u001b[0m\u001b[1;33m(\u001b[0m\u001b[0mfilepath_or_buffer\u001b[0m\u001b[1;33m,\u001b[0m \u001b[1;33m**\u001b[0m\u001b[0mkwds\u001b[0m\u001b[1;33m)\u001b[0m\u001b[1;33m\u001b[0m\u001b[1;33m\u001b[0m\u001b[0m\n\u001b[0m\u001b[0;32m    430\u001b[0m \u001b[1;33m\u001b[0m\u001b[0m\n\u001b[0;32m    431\u001b[0m     \u001b[1;32mif\u001b[0m \u001b[0mchunksize\u001b[0m \u001b[1;32mor\u001b[0m \u001b[0miterator\u001b[0m\u001b[1;33m:\u001b[0m\u001b[1;33m\u001b[0m\u001b[1;33m\u001b[0m\u001b[0m\n",
      "\u001b[1;32mD:\\Software\\Anaconda3\\lib\\site-packages\\pandas\\io\\parsers.py\u001b[0m in \u001b[0;36m__init__\u001b[1;34m(self, f, engine, **kwds)\u001b[0m\n\u001b[0;32m    893\u001b[0m             \u001b[0mself\u001b[0m\u001b[1;33m.\u001b[0m\u001b[0moptions\u001b[0m\u001b[1;33m[\u001b[0m\u001b[1;34m'has_index_names'\u001b[0m\u001b[1;33m]\u001b[0m \u001b[1;33m=\u001b[0m \u001b[0mkwds\u001b[0m\u001b[1;33m[\u001b[0m\u001b[1;34m'has_index_names'\u001b[0m\u001b[1;33m]\u001b[0m\u001b[1;33m\u001b[0m\u001b[1;33m\u001b[0m\u001b[0m\n\u001b[0;32m    894\u001b[0m \u001b[1;33m\u001b[0m\u001b[0m\n\u001b[1;32m--> 895\u001b[1;33m         \u001b[0mself\u001b[0m\u001b[1;33m.\u001b[0m\u001b[0m_make_engine\u001b[0m\u001b[1;33m(\u001b[0m\u001b[0mself\u001b[0m\u001b[1;33m.\u001b[0m\u001b[0mengine\u001b[0m\u001b[1;33m)\u001b[0m\u001b[1;33m\u001b[0m\u001b[1;33m\u001b[0m\u001b[0m\n\u001b[0m\u001b[0;32m    896\u001b[0m \u001b[1;33m\u001b[0m\u001b[0m\n\u001b[0;32m    897\u001b[0m     \u001b[1;32mdef\u001b[0m \u001b[0mclose\u001b[0m\u001b[1;33m(\u001b[0m\u001b[0mself\u001b[0m\u001b[1;33m)\u001b[0m\u001b[1;33m:\u001b[0m\u001b[1;33m\u001b[0m\u001b[1;33m\u001b[0m\u001b[0m\n",
      "\u001b[1;32mD:\\Software\\Anaconda3\\lib\\site-packages\\pandas\\io\\parsers.py\u001b[0m in \u001b[0;36m_make_engine\u001b[1;34m(self, engine)\u001b[0m\n\u001b[0;32m   1120\u001b[0m     \u001b[1;32mdef\u001b[0m \u001b[0m_make_engine\u001b[0m\u001b[1;33m(\u001b[0m\u001b[0mself\u001b[0m\u001b[1;33m,\u001b[0m \u001b[0mengine\u001b[0m\u001b[1;33m=\u001b[0m\u001b[1;34m'c'\u001b[0m\u001b[1;33m)\u001b[0m\u001b[1;33m:\u001b[0m\u001b[1;33m\u001b[0m\u001b[1;33m\u001b[0m\u001b[0m\n\u001b[0;32m   1121\u001b[0m         \u001b[1;32mif\u001b[0m \u001b[0mengine\u001b[0m \u001b[1;33m==\u001b[0m \u001b[1;34m'c'\u001b[0m\u001b[1;33m:\u001b[0m\u001b[1;33m\u001b[0m\u001b[1;33m\u001b[0m\u001b[0m\n\u001b[1;32m-> 1122\u001b[1;33m             \u001b[0mself\u001b[0m\u001b[1;33m.\u001b[0m\u001b[0m_engine\u001b[0m \u001b[1;33m=\u001b[0m \u001b[0mCParserWrapper\u001b[0m\u001b[1;33m(\u001b[0m\u001b[0mself\u001b[0m\u001b[1;33m.\u001b[0m\u001b[0mf\u001b[0m\u001b[1;33m,\u001b[0m \u001b[1;33m**\u001b[0m\u001b[0mself\u001b[0m\u001b[1;33m.\u001b[0m\u001b[0moptions\u001b[0m\u001b[1;33m)\u001b[0m\u001b[1;33m\u001b[0m\u001b[1;33m\u001b[0m\u001b[0m\n\u001b[0m\u001b[0;32m   1123\u001b[0m         \u001b[1;32melse\u001b[0m\u001b[1;33m:\u001b[0m\u001b[1;33m\u001b[0m\u001b[1;33m\u001b[0m\u001b[0m\n\u001b[0;32m   1124\u001b[0m             \u001b[1;32mif\u001b[0m \u001b[0mengine\u001b[0m \u001b[1;33m==\u001b[0m \u001b[1;34m'python'\u001b[0m\u001b[1;33m:\u001b[0m\u001b[1;33m\u001b[0m\u001b[1;33m\u001b[0m\u001b[0m\n",
      "\u001b[1;32mD:\\Software\\Anaconda3\\lib\\site-packages\\pandas\\io\\parsers.py\u001b[0m in \u001b[0;36m__init__\u001b[1;34m(self, src, **kwds)\u001b[0m\n\u001b[0;32m   1851\u001b[0m         \u001b[0mkwds\u001b[0m\u001b[1;33m[\u001b[0m\u001b[1;34m'usecols'\u001b[0m\u001b[1;33m]\u001b[0m \u001b[1;33m=\u001b[0m \u001b[0mself\u001b[0m\u001b[1;33m.\u001b[0m\u001b[0musecols\u001b[0m\u001b[1;33m\u001b[0m\u001b[1;33m\u001b[0m\u001b[0m\n\u001b[0;32m   1852\u001b[0m \u001b[1;33m\u001b[0m\u001b[0m\n\u001b[1;32m-> 1853\u001b[1;33m         \u001b[0mself\u001b[0m\u001b[1;33m.\u001b[0m\u001b[0m_reader\u001b[0m \u001b[1;33m=\u001b[0m \u001b[0mparsers\u001b[0m\u001b[1;33m.\u001b[0m\u001b[0mTextReader\u001b[0m\u001b[1;33m(\u001b[0m\u001b[0msrc\u001b[0m\u001b[1;33m,\u001b[0m \u001b[1;33m**\u001b[0m\u001b[0mkwds\u001b[0m\u001b[1;33m)\u001b[0m\u001b[1;33m\u001b[0m\u001b[1;33m\u001b[0m\u001b[0m\n\u001b[0m\u001b[0;32m   1854\u001b[0m         \u001b[0mself\u001b[0m\u001b[1;33m.\u001b[0m\u001b[0munnamed_cols\u001b[0m \u001b[1;33m=\u001b[0m \u001b[0mself\u001b[0m\u001b[1;33m.\u001b[0m\u001b[0m_reader\u001b[0m\u001b[1;33m.\u001b[0m\u001b[0munnamed_cols\u001b[0m\u001b[1;33m\u001b[0m\u001b[1;33m\u001b[0m\u001b[0m\n\u001b[0;32m   1855\u001b[0m \u001b[1;33m\u001b[0m\u001b[0m\n",
      "\u001b[1;32mpandas/_libs/parsers.pyx\u001b[0m in \u001b[0;36mpandas._libs.parsers.TextReader.__cinit__\u001b[1;34m()\u001b[0m\n",
      "\u001b[1;32mpandas/_libs/parsers.pyx\u001b[0m in \u001b[0;36mpandas._libs.parsers.TextReader._setup_parser_source\u001b[1;34m()\u001b[0m\n",
      "\u001b[1;31mFileNotFoundError\u001b[0m: [Errno 2] File b'C:\\\\Users\\\\001\\\\Desktop\\\\_SELECT_A_VIN_A_ZORD_NO_AS_PLAN_NO_A_CAR_STATE_A_VEHICLE_ID_A_CU_202004271034.csv' does not exist: b'C:\\\\Users\\\\001\\\\Desktop\\\\_SELECT_A_VIN_A_ZORD_NO_AS_PLAN_NO_A_CAR_STATE_A_VEHICLE_ID_A_CU_202004271034.csv'"
     ]
    }
   ],
   "source": [
    "table =  ps.read_csv('C:\\\\Users\\\\001\\\\Desktop\\\\'+df1+'.csv')"
   ]
  },
  {
   "cell_type": "code",
   "execution_count": 22,
   "metadata": {},
   "outputs": [
    {
     "data": {
      "text/html": [
       "<div>\n",
       "<style scoped>\n",
       "    .dataframe tbody tr th:only-of-type {\n",
       "        vertical-align: middle;\n",
       "    }\n",
       "\n",
       "    .dataframe tbody tr th {\n",
       "        vertical-align: top;\n",
       "    }\n",
       "\n",
       "    .dataframe thead th {\n",
       "        text-align: right;\n",
       "    }\n",
       "</style>\n",
       "<table border=\"1\" class=\"dataframe\">\n",
       "  <thead>\n",
       "    <tr style=\"text-align: right;\">\n",
       "      <th></th>\n",
       "      <th>VIN</th>\n",
       "      <th>PLAN_NO</th>\n",
       "      <th>CAR_STATE</th>\n",
       "      <th>VEHICLE_ID</th>\n",
       "      <th>CUSTOM_PACK_CODE</th>\n",
       "      <th>CUSTOM_PACK_NAME</th>\n",
       "      <th>ACTUAL_OFFLINE_TIME</th>\n",
       "      <th>RFID_DATE</th>\n",
       "      <th>MOTOR_CODE</th>\n",
       "      <th>BETTARY_CODE</th>\n",
       "      <th>...</th>\n",
       "      <th>CATALOG_NAME</th>\n",
       "      <th>COLOR_NAME_IN</th>\n",
       "      <th>COLOR_NAME_OUT</th>\n",
       "      <th>CERT_NO</th>\n",
       "      <th>CERT_PRINT_DATE</th>\n",
       "      <th>FROZEN_REASON</th>\n",
       "      <th>ORDER_CAR_ID</th>\n",
       "      <th>STOCK_OUT_DATE</th>\n",
       "      <th>START_TRANSPORT_TIME</th>\n",
       "      <th>ORDER_CUSTOMER_NO</th>\n",
       "    </tr>\n",
       "  </thead>\n",
       "  <tbody>\n",
       "    <tr>\n",
       "      <th>0</th>\n",
       "      <td>AM861190924001AAA</td>\n",
       "      <td>P19092300645</td>\n",
       "      <td>11VDCCK</td>\n",
       "      <td>b0850a00e4e7f1c27b925ab4864d1b3e</td>\n",
       "      <td>NaN</td>\n",
       "      <td>NaN</td>\n",
       "      <td>2019-09-24 11:18:46</td>\n",
       "      <td>2019-09-24</td>\n",
       "      <td>NaN</td>\n",
       "      <td>NaN</td>\n",
       "      <td>...</td>\n",
       "      <td>Pro</td>\n",
       "      <td>米棕配色</td>\n",
       "      <td>黑白双色</td>\n",
       "      <td>NaN</td>\n",
       "      <td>NaN</td>\n",
       "      <td>NaN</td>\n",
       "      <td>NaN</td>\n",
       "      <td>2019-09-24 13:53:10</td>\n",
       "      <td>NaN</td>\n",
       "      <td>NaN</td>\n",
       "    </tr>\n",
       "    <tr>\n",
       "      <th>1</th>\n",
       "      <td>AM861190924002AAA</td>\n",
       "      <td>P19092300646</td>\n",
       "      <td>13QDSC</td>\n",
       "      <td>346d8eb5c2d9c3af437307019c8c6a9f</td>\n",
       "      <td>XZLA</td>\n",
       "      <td>B包准备</td>\n",
       "      <td>2019-09-24 11:21:50</td>\n",
       "      <td>2019-09-24</td>\n",
       "      <td>NaN</td>\n",
       "      <td>NaN</td>\n",
       "      <td>...</td>\n",
       "      <td>Pro</td>\n",
       "      <td>黑色配色</td>\n",
       "      <td>黑蓝双色</td>\n",
       "      <td>NaN</td>\n",
       "      <td>NaN</td>\n",
       "      <td>NaN</td>\n",
       "      <td>NaN</td>\n",
       "      <td>2019-10-23 11:57:03</td>\n",
       "      <td>2019-10-23 11:59:42</td>\n",
       "      <td>NaN</td>\n",
       "    </tr>\n",
       "    <tr>\n",
       "      <th>2</th>\n",
       "      <td>AM861191021002AAA</td>\n",
       "      <td>P19101800679</td>\n",
       "      <td>15LSCK</td>\n",
       "      <td>0c3d52227f563d526b752a00c53147d6</td>\n",
       "      <td>XZAC</td>\n",
       "      <td>全场景泊车A</td>\n",
       "      <td>2019-10-22 15:52:18</td>\n",
       "      <td>2019-10-23</td>\n",
       "      <td>NaN</td>\n",
       "      <td>NaN</td>\n",
       "      <td>...</td>\n",
       "      <td>Ing+</td>\n",
       "      <td>黑色配色</td>\n",
       "      <td>天使白</td>\n",
       "      <td>NaN</td>\n",
       "      <td>NaN</td>\n",
       "      <td>销售配车</td>\n",
       "      <td>OC201911131023110710</td>\n",
       "      <td>2019-11-13 16:26:14</td>\n",
       "      <td>2019-11-13 16:26:14</td>\n",
       "      <td>BL31190299881200</td>\n",
       "    </tr>\n",
       "    <tr>\n",
       "      <th>3</th>\n",
       "      <td>AM861191022001AAA</td>\n",
       "      <td>P19101800680</td>\n",
       "      <td>14QDRK</td>\n",
       "      <td>5256748d53793dafc05489576a55b855</td>\n",
       "      <td>XZAC</td>\n",
       "      <td>全场景泊车A</td>\n",
       "      <td>2019-10-22 18:42:37</td>\n",
       "      <td>2019-10-23</td>\n",
       "      <td>NaN</td>\n",
       "      <td>NaN</td>\n",
       "      <td>...</td>\n",
       "      <td>Ing+</td>\n",
       "      <td>黑色配色</td>\n",
       "      <td>天使白</td>\n",
       "      <td>NaN</td>\n",
       "      <td>NaN</td>\n",
       "      <td>销售配车</td>\n",
       "      <td>OC201911121810090709</td>\n",
       "      <td>2019-11-13 16:01:07</td>\n",
       "      <td>2019-11-13 16:01:07</td>\n",
       "      <td>BL20200118223514</td>\n",
       "    </tr>\n",
       "    <tr>\n",
       "      <th>4</th>\n",
       "      <td>AM861191022003AAA</td>\n",
       "      <td>P19101800682</td>\n",
       "      <td>15LSCK</td>\n",
       "      <td>bbaeadd168d9f9989756cbad0d7fd775</td>\n",
       "      <td>XZAC</td>\n",
       "      <td>全场景泊车A</td>\n",
       "      <td>2019-10-22 19:18:05</td>\n",
       "      <td>2019-10-23</td>\n",
       "      <td>NaN</td>\n",
       "      <td>NaN</td>\n",
       "      <td>...</td>\n",
       "      <td>Ing+</td>\n",
       "      <td>黑色配色</td>\n",
       "      <td>天使白</td>\n",
       "      <td>NaN</td>\n",
       "      <td>NaN</td>\n",
       "      <td>销售配车</td>\n",
       "      <td>OC201911111139340705</td>\n",
       "      <td>2019-11-11 11:45:29</td>\n",
       "      <td>2019-11-11 11:45:30</td>\n",
       "      <td>BL31190299881195</td>\n",
       "    </tr>\n",
       "  </tbody>\n",
       "</table>\n",
       "<p>5 rows × 25 columns</p>\n",
       "</div>"
      ],
      "text/plain": [
       "                 VIN       PLAN_NO CAR_STATE  \\\n",
       "0  AM861190924001AAA  P19092300645   11VDCCK   \n",
       "1  AM861190924002AAA  P19092300646    13QDSC   \n",
       "2  AM861191021002AAA  P19101800679    15LSCK   \n",
       "3  AM861191022001AAA  P19101800680    14QDRK   \n",
       "4  AM861191022003AAA  P19101800682    15LSCK   \n",
       "\n",
       "                         VEHICLE_ID CUSTOM_PACK_CODE CUSTOM_PACK_NAME  \\\n",
       "0  b0850a00e4e7f1c27b925ab4864d1b3e              NaN              NaN   \n",
       "1  346d8eb5c2d9c3af437307019c8c6a9f             XZLA             B包准备   \n",
       "2  0c3d52227f563d526b752a00c53147d6             XZAC           全场景泊车A   \n",
       "3  5256748d53793dafc05489576a55b855             XZAC           全场景泊车A   \n",
       "4  bbaeadd168d9f9989756cbad0d7fd775             XZAC           全场景泊车A   \n",
       "\n",
       "   ACTUAL_OFFLINE_TIME   RFID_DATE MOTOR_CODE BETTARY_CODE  ... CATALOG_NAME  \\\n",
       "0  2019-09-24 11:18:46  2019-09-24        NaN          NaN  ...          Pro   \n",
       "1  2019-09-24 11:21:50  2019-09-24        NaN          NaN  ...          Pro   \n",
       "2  2019-10-22 15:52:18  2019-10-23        NaN          NaN  ...         Ing+   \n",
       "3  2019-10-22 18:42:37  2019-10-23        NaN          NaN  ...         Ing+   \n",
       "4  2019-10-22 19:18:05  2019-10-23        NaN          NaN  ...         Ing+   \n",
       "\n",
       "   COLOR_NAME_IN  COLOR_NAME_OUT CERT_NO  CERT_PRINT_DATE FROZEN_REASON  \\\n",
       "0           米棕配色            黑白双色     NaN              NaN           NaN   \n",
       "1           黑色配色            黑蓝双色     NaN              NaN           NaN   \n",
       "2           黑色配色             天使白     NaN              NaN          销售配车   \n",
       "3           黑色配色             天使白     NaN              NaN          销售配车   \n",
       "4           黑色配色             天使白     NaN              NaN          销售配车   \n",
       "\n",
       "           ORDER_CAR_ID       STOCK_OUT_DATE START_TRANSPORT_TIME  \\\n",
       "0                   NaN  2019-09-24 13:53:10                  NaN   \n",
       "1                   NaN  2019-10-23 11:57:03  2019-10-23 11:59:42   \n",
       "2  OC201911131023110710  2019-11-13 16:26:14  2019-11-13 16:26:14   \n",
       "3  OC201911121810090709  2019-11-13 16:01:07  2019-11-13 16:01:07   \n",
       "4  OC201911111139340705  2019-11-11 11:45:29  2019-11-11 11:45:30   \n",
       "\n",
       "  ORDER_CUSTOMER_NO  \n",
       "0               NaN  \n",
       "1               NaN  \n",
       "2  BL31190299881200  \n",
       "3  BL20200118223514  \n",
       "4  BL31190299881195  \n",
       "\n",
       "[5 rows x 25 columns]"
      ]
     },
     "execution_count": 22,
     "metadata": {},
     "output_type": "execute_result"
    }
   ],
   "source": [
    "table.head()"
   ]
  },
  {
   "cell_type": "code",
   "execution_count": 14,
   "metadata": {},
   "outputs": [
    {
     "name": "stdout",
     "output_type": "stream",
     "text": [
      "<class 'pandas.core.frame.DataFrame'>\n",
      "RangeIndex: 2854 entries, 0 to 2853\n",
      "Data columns (total 25 columns):\n",
      "VIN                     330 non-null object\n",
      "PLAN_NO                 2854 non-null object\n",
      "CAR_STATE               2854 non-null object\n",
      "VEHICLE_ID              2854 non-null object\n",
      "CUSTOM_PACK_CODE        2772 non-null object\n",
      "CUSTOM_PACK_NAME        2757 non-null object\n",
      "ACTUAL_OFFLINE_TIME     267 non-null object\n",
      "RFID_DATE               179 non-null object\n",
      "MOTOR_CODE              9 non-null object\n",
      "BETTARY_CODE            9 non-null object\n",
      "ELECTRONIC_CONTROL      4 non-null object\n",
      "STORAGE_STATUS          178 non-null float64\n",
      "VEHICLE_IS_FROZEN       2854 non-null int64\n",
      "SERIES_NAME             328 non-null object\n",
      "MODEL_NAME              328 non-null float64\n",
      "CATALOG_NAME            328 non-null object\n",
      "COLOR_NAME_IN           328 non-null object\n",
      "COLOR_NAME_OUT          328 non-null object\n",
      "CERT_NO                 9 non-null object\n",
      "CERT_PRINT_DATE         9 non-null object\n",
      "FROZEN_REASON           135 non-null object\n",
      "ORDER_CAR_ID            107 non-null object\n",
      "STOCK_OUT_DATE          70 non-null object\n",
      "START_TRANSPORT_TIME    52 non-null object\n",
      "ORDER_CUSTOMER_NO       51 non-null object\n",
      "dtypes: float64(2), int64(1), object(22)\n",
      "memory usage: 557.5+ KB\n"
     ]
    }
   ],
   "source": [
    "table.info()"
   ]
  },
  {
   "cell_type": "code",
   "execution_count": 8,
   "metadata": {},
   "outputs": [],
   "source": [
    "df1.to_excel('C:\\\\Users\\\\001\\\\Desktop\\\\'+ fileName +'.xlsx', sheet_name = 'data1')"
   ]
  },
  {
   "cell_type": "code",
   "execution_count": 11,
   "metadata": {},
   "outputs": [],
   "source": [
    "df2.to_excel('C:\\\\Users\\\\001\\\\Desktop\\\\'+ fileName +'.xlsx', sheet_name = 'data2')"
   ]
  },
  {
   "cell_type": "code",
   "execution_count": 6,
   "metadata": {},
   "outputs": [
    {
     "name": "stdout",
     "output_type": "stream",
     "text": [
      "0.1\n"
     ]
    }
   ],
   "source": [
    "from decimal import Decimal\n",
    "a =Decimal('0.8')\n",
    "b =Decimal('0.7')\n",
    "print(a-b)"
   ]
  }
 ],
 "metadata": {
  "kernelspec": {
   "display_name": "Python 3",
   "language": "python",
   "name": "python3"
  },
  "language_info": {
   "codemirror_mode": {
    "name": "ipython",
    "version": 3
   },
   "file_extension": ".py",
   "mimetype": "text/x-python",
   "name": "python",
   "nbconvert_exporter": "python",
   "pygments_lexer": "ipython3",
   "version": "3.7.3"
  }
 },
 "nbformat": 4,
 "nbformat_minor": 2
}

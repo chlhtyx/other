{
 "cells": [
  {
   "cell_type": "markdown",
   "metadata": {},
   "source": [
    "判断点是否在多边形内部"
   ]
  },
  {
   "cell_type": "code",
   "execution_count": 12,
   "metadata": {},
   "outputs": [],
   "source": [
    "def point_in_polygon( polygon,point):\n",
    "#     获取X  Y 的最大值  最小值\n",
    "    flag =False\n",
    "    x_min = x_max = polygon[0][0]\n",
    "    y_min = y_max = polygon[0][1]   \n",
    "    for index in range(len(polygon)):\n",
    "        if polygon[index][0]>x_max:\n",
    "            x_max = polygon[index][0]\n",
    "        if polygon[index][0]<x_min:\n",
    "            x_min = polygon[index][0]\n",
    "        if polygon[index][1]>y_max:\n",
    "            y_max = polygon[index][1]\n",
    "        if polygon[index][1]<y_min:\n",
    "            y_min = polygon[index][1]\n",
    "        \n",
    "# 判断点是否超出X轴 Y轴 最大值 最小值范围 ，如果超出必定不在多边形内   返回False\n",
    "    if point[0]>x_max  or point[0]<x_min or point[1]>y_max or point[1]<y_min:\n",
    "        print(1)\n",
    "        return flag\n",
    " \n",
    " # 被测试点的纵坐标testy是否在本次循环所测试的两个相邻点纵坐标范围之内，即 ys[i] <y < ys[j]或者ys[j] <y < ys[i]。\n",
    "# 判断以该点做向右水平射线,如果有奇数个交点在多边形内，偶数个交点在多变形内\n",
    "\n",
    "    for index in range(1,len(polygon)):\n",
    "        x =(point[1]-polygon[index-1][1])*(polygon[index][0]-polygon[index-1][0])/(polygon[index][1]-polygon[index-1][1])+polygon[index-1][0]\n",
    "        \n",
    "        if point[0] < x  and (polygon[index-1][1] > point[1]) != (polygon[index][1] > point[1]):\n",
    "            flag = not flag\n",
    "    return  flag\n",
    "    "
   ]
  },
  {
   "cell_type": "code",
   "execution_count": 13,
   "metadata": {
    "scrolled": true
   },
   "outputs": [
    {
     "name": "stdout",
     "output_type": "stream",
     "text": [
      "False\n",
      "True\n",
      "1.0\n",
      "----------------------------------\n",
      "True\n",
      "False\n",
      "4.0\n",
      "----------------------------------\n",
      "False\n",
      "False\n",
      "4.0\n",
      "----------------------------------\n",
      "True\n"
     ]
    }
   ],
   "source": [
    "list1 = [[0,2],[2,4],[4,3],[2,0]]\n",
    "list2 = [2,3] \n",
    "\n",
    "\n",
    "print(point_in_polygon(list1,list2))"
   ]
  }
 ],
 "metadata": {
  "kernelspec": {
   "display_name": "Python 3",
   "language": "python",
   "name": "python3"
  },
  "language_info": {
   "codemirror_mode": {
    "name": "ipython",
    "version": 3
   },
   "file_extension": ".py",
   "mimetype": "text/x-python",
   "name": "python",
   "nbconvert_exporter": "python",
   "pygments_lexer": "ipython3",
   "version": "3.7.3"
  }
 },
 "nbformat": 4,
 "nbformat_minor": 2
}

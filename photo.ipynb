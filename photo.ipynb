{
 "cells": [
  {
   "cell_type": "code",
   "execution_count": 16,
   "metadata": {},
   "outputs": [],
   "source": [
    "#引入依赖\n",
    "import os\n",
    "import exifread\n",
    "import datetime\n",
    "import shutil\n",
    "import time"
   ]
  },
  {
   "cell_type": "code",
   "execution_count": 17,
   "metadata": {},
   "outputs": [],
   "source": [
    "#  文件夹路径\n",
    "path = \"D:/Users/001/Pictures/phototest\"\n",
    "dirs = os.listdir(path);"
   ]
  },
  {
   "cell_type": "code",
   "execution_count": 59,
   "metadata": {},
   "outputs": [
    {
     "ename": "PermissionError",
     "evalue": "[Errno 13] Permission denied: 'D:/Users/001/Pictures/phototest/2015_5'",
     "output_type": "error",
     "traceback": [
      "\u001b[1;31m---------------------------------------------------------------------------\u001b[0m",
      "\u001b[1;31mPermissionError\u001b[0m                           Traceback (most recent call last)",
      "\u001b[1;32m<ipython-input-59-65ede267bbba>\u001b[0m in \u001b[0;36m<module>\u001b[1;34m\u001b[0m\n\u001b[0;32m      8\u001b[0m     \u001b[0mstr_month\u001b[0m \u001b[1;33m=\u001b[0m\u001b[1;34m\"\"\u001b[0m\u001b[1;33m\u001b[0m\u001b[1;33m\u001b[0m\u001b[0m\n\u001b[0;32m      9\u001b[0m \u001b[1;33m\u001b[0m\u001b[0m\n\u001b[1;32m---> 10\u001b[1;33m     \u001b[1;32mwith\u001b[0m \u001b[0mopen\u001b[0m\u001b[1;33m(\u001b[0m\u001b[0mfull_path\u001b[0m\u001b[1;33m,\u001b[0m \u001b[1;34m'rb'\u001b[0m\u001b[1;33m)\u001b[0m \u001b[1;32mas\u001b[0m \u001b[0mf\u001b[0m\u001b[1;33m:\u001b[0m\u001b[1;33m\u001b[0m\u001b[1;33m\u001b[0m\u001b[0m\n\u001b[0m\u001b[0;32m     11\u001b[0m \u001b[1;31m#  获取exif 信息\u001b[0m\u001b[1;33m\u001b[0m\u001b[1;33m\u001b[0m\u001b[1;33m\u001b[0m\u001b[0m\n\u001b[0;32m     12\u001b[0m         \u001b[0mtags\u001b[0m \u001b[1;33m=\u001b[0m \u001b[0mexifread\u001b[0m\u001b[1;33m.\u001b[0m\u001b[0mprocess_file\u001b[0m\u001b[1;33m(\u001b[0m\u001b[0mf\u001b[0m\u001b[1;33m)\u001b[0m\u001b[1;33m\u001b[0m\u001b[1;33m\u001b[0m\u001b[0m\n",
      "\u001b[1;31mPermissionError\u001b[0m: [Errno 13] Permission denied: 'D:/Users/001/Pictures/phototest/2015_5'"
     ]
    }
   ],
   "source": [
    "\n",
    "\n",
    "# 遍历文件夹内文件\n",
    "for  file in  dirs:\n",
    "    full_path = path+\"/\"+file\n",
    "    str_year =\"\"\n",
    "    str_month =\"\"\n",
    "    \n",
    "    with open(full_path, 'rb') as f:\n",
    "#  获取exif 信息\n",
    "        tags = exifread.process_file(f)       \n",
    "# 获取时间\n",
    "\n",
    "        if 'EXIF DateTimeOriginal' in    tags:\n",
    "            dateTime_temp = datetime.datetime.strptime(str( tags['EXIF DateTimeOriginal']),'%Y:%m:%d %H:%M:%S')\n",
    "\n",
    "            str_year =dateTime_temp.year\n",
    "            str_month =dateTime_temp.month\n",
    "        \n",
    "        else:\n",
    "            update_time =  time.strftime('%Y:%m:%d %H:%M:%S', time.localtime(os.stat(full_path).st_mtime))\n",
    "            dateTime_temp =  datetime.datetime.strptime(update_time,'%Y:%m:%d %H:%M:%S')\n",
    "            str_year =dateTime_temp.year\n",
    "            str_month =dateTime_temp.month            \n",
    "         \n",
    "        f.close()\n",
    "    \n",
    "    \n",
    "    move_path = path+\"/\"+str(str_year)+\"_\"+str(str_month)\n",
    "    if  not(os.path.exists(path+\"/\"+str(str_year)+\"_\"+str(str_month))):\n",
    "        os.mkdir(move_path)\n",
    "    shutil.move(full_path, move_path)\n",
    "\n",
    "   \n",
    "    \n",
    "        "
   ]
  },
  {
   "cell_type": "code",
   "execution_count": null,
   "metadata": {},
   "outputs": [],
   "source": []
  },
  {
   "cell_type": "code",
   "execution_count": null,
   "metadata": {},
   "outputs": [],
   "source": []
  }
 ],
 "metadata": {
  "kernelspec": {
   "display_name": "Python 3",
   "language": "python",
   "name": "python3"
  },
  "language_info": {
   "codemirror_mode": {
    "name": "ipython",
    "version": 3
   },
   "file_extension": ".py",
   "mimetype": "text/x-python",
   "name": "python",
   "nbconvert_exporter": "python",
   "pygments_lexer": "ipython3",
   "version": "3.7.3"
  }
 },
 "nbformat": 4,
 "nbformat_minor": 2
}

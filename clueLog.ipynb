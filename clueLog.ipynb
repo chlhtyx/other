{
 "cells": [
  {
   "cell_type": "code",
   "execution_count": 12,
   "metadata": {},
   "outputs": [],
   "source": [
    "import pandas as pd\n",
    "import json\n",
    "\n",
    "#读取excel 文件\n",
    "df1 = pd.read_excel('D:\\\\Code\\\\python\\\\cluelog.xlsx')"
   ]
  },
  {
   "cell_type": "code",
   "execution_count": 13,
   "metadata": {},
   "outputs": [],
   "source": [
    "#获取指定列\n",
    "column  = df1['log']"
   ]
  },
  {
   "cell_type": "code",
   "execution_count": 14,
   "metadata": {},
   "outputs": [],
   "source": [
    "#创建输出用空表\n",
    "df = pd.DataFrame(columns = ['clueNo','message']) \n",
    "\n",
    "#初始化序号\n",
    "index = 0"
   ]
  },
  {
   "cell_type": "code",
   "execution_count": 15,
   "metadata": {},
   "outputs": [],
   "source": [
    "# 数据\n",
    "for i in range(len(column)):   \n",
    "    #json 解析取每一行\n",
    "    json_row = json.loads(column[i])\n",
    "    for j in  range(len(json_row['data'])):\n",
    "        index =index+1\n",
    "        #读取数据插入到新表中\n",
    "        clue_no =json_row['data'][j].get('clueNo')\n",
    "        message =json_row['data'][j].get('message')\n",
    "        df.loc[index]=[clue_no,message]"
   ]
  },
  {
   "cell_type": "code",
   "execution_count": 18,
   "metadata": {},
   "outputs": [],
   "source": [
    "#导出 excel\n",
    "df.to_excel('线索日志解析.xlsx')"
   ]
  }
 ],
 "metadata": {
  "kernelspec": {
   "display_name": "Python 3",
   "language": "python",
   "name": "python3"
  },
  "language_info": {
   "codemirror_mode": {
    "name": "ipython",
    "version": 3
   },
   "file_extension": ".py",
   "mimetype": "text/x-python",
   "name": "python",
   "nbconvert_exporter": "python",
   "pygments_lexer": "ipython3",
   "version": "3.7.3"
  }
 },
 "nbformat": 4,
 "nbformat_minor": 2
}
